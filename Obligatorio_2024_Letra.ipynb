{
 "cells": [
  {
   "cell_type": "markdown",
   "metadata": {
    "id": "FvK9xJR6t9Iw",
    "pycharm": {
     "name": "#%% md\n"
    }
   },
   "source": [
    "# Obligatorio - Taller Agentes Inteligentes 2024\n",
    "\n",
    "Vamos a usar el ambiente Galaxian de Gymnasium:\n",
    "- Link: https://gymnasium.farama.org/environments/atari/galaxian/\n",
    "\n",
    "En este caso, el juego está programado como un ambiente de Farama Gymnasium, cumpliendo con las interfaces que hemos trabajado en el curso.\n",
    "\n",
    "\n",
    "El objetivo del juego consta de lograr que nuestro personaje llegue al final de la pantalla, sin ser destruido por las naves enemigas."
   ]
  },
  {
   "cell_type": "markdown",
   "metadata": {
    "id": "BgqA_LYAt9I0"
   },
   "source": [
    "![](./assets/images/galaxian.gif)"
   ]
  },
  {
   "cell_type": "markdown",
   "metadata": {
    "id": "QkZeuZ7Rt9I0"
   },
   "source": [
    "El objetivo es resolver el juego utilizando Deep Q Learning y Double Deep Q Learning, comparando sus resultados.\n",
    "\n",
    "\n",
    "## Tareas:\n",
    "\n",
    "\n",
    "1. Completar el código faltante en este notebook (y archivos asociados).\n",
    "\n",
    "\n",
    "2. Entrenar un agente de Deep Q Learning (DQN) para cada ambiente tal que éste sea capaz de resolverlo.\n",
    "\n",
    "\n",
    "3. Entrenar un agente de Double Deep Q Learning (DDQN) para cada ambiente tal que éste sea capaz de resolverlo.\n",
    "\n",
    "\n",
    "4. Graficar las recompensas obtenidas para cada ambiente por cada agente (Ambos agentes resolviendo el ambiente 1 en una misma gráfica, idem para el ambiente 2). Escribir al menos 2 conclusiones de cada grafica. \n",
    "\n",
    "\n",
    "5. Grabar un video de cada agente resolviendo cada problema (pueden descargar el video desde colab y entregarlos dentro de un zip).\n",
    "\n",
    "\n",
    "Recuerden que pueden usar la GPU en google colab para agilizar el entrenamiento. \n",
    "***\n",
    "\n",
    "\n",
    "Fecha de entrega: **25/06** 21hs por gestión (gestion.ort.edu.uy). Pueden trabajar en grupos de hasta 3 estudiantes. \n",
    "***"
   ]
  },
  {
   "cell_type": "markdown",
   "metadata": {
    "id": "YWf2qc2Hykps",
    "pycharm": {
     "name": "#%% md\n"
    }
   },
   "source": [
    "Instalación de librerías. Se fija la versión de gym, dado que para dicha versión las ROMS de los juegos ya estan includias y se evita su instalación separada lo que puede originar problemas."
   ]
  },
  {
   "cell_type": "code",
   "execution_count": null,
   "metadata": {},
   "outputs": [],
   "source": [
    "# Para la utilización de GYM, es necesario instalar el paquete\n",
    "# desde CONDA primero.\n",
    "# Utilizar el siguiente link para la instalación desde CONDA:\n",
    "# https://giulic3.github.io/posts/installing-openai-gym-with-anaconda-3\n"
   ]
  },
  {
   "cell_type": "code",
   "execution_count": 1,
   "metadata": {
    "id": "r9wotKEgOaUW",
    "pycharm": {
     "name": "#%%\n"
    }
   },
   "outputs": [
    {
     "name": "stdout",
     "output_type": "stream",
     "text": [
      "Requirement already satisfied: pyvirtualdisplay in /opt/anaconda3/envs/taller_ai_38/lib/python3.8/site-packages (3.0)\n",
      "zsh:1: command not found: apt-get\n",
      "Requirement already satisfied: opencv-python in /opt/anaconda3/envs/taller_ai_38/lib/python3.8/site-packages (4.10.0.82)\n",
      "Requirement already satisfied: numpy>=1.21.0 in /opt/anaconda3/envs/taller_ai_38/lib/python3.8/site-packages (from opencv-python) (1.24.3)\n",
      "Requirement already satisfied: torchsummary in /opt/anaconda3/envs/taller_ai_38/lib/python3.8/site-packages (1.5.1)\n",
      "Requirement already satisfied: pyglet==1.4.9 in /opt/anaconda3/envs/taller_ai_38/lib/python3.8/site-packages (1.4.9)\n",
      "Requirement already satisfied: future in /opt/anaconda3/envs/taller_ai_38/lib/python3.8/site-packages (from pyglet==1.4.9) (1.0.0)\n",
      "Looking in links: https://download.pytorch.org/whl/cu118/torchvision-0.18.0%2Bcu118-cp311-cp311-win_amd64.whl\n",
      "Requirement already satisfied: torchvision==0.15.2 in /opt/anaconda3/envs/taller_ai_38/lib/python3.8/site-packages (0.15.2)\n",
      "Requirement already satisfied: numpy in /opt/anaconda3/envs/taller_ai_38/lib/python3.8/site-packages (from torchvision==0.15.2) (1.24.3)\n",
      "Requirement already satisfied: requests in /opt/anaconda3/envs/taller_ai_38/lib/python3.8/site-packages (from torchvision==0.15.2) (2.31.0)\n",
      "Requirement already satisfied: torch==2.0.1 in /opt/anaconda3/envs/taller_ai_38/lib/python3.8/site-packages (from torchvision==0.15.2) (2.0.1)\n",
      "Requirement already satisfied: pillow!=8.3.*,>=5.3.0 in /opt/anaconda3/envs/taller_ai_38/lib/python3.8/site-packages (from torchvision==0.15.2) (10.2.0)\n",
      "Requirement already satisfied: filelock in /opt/anaconda3/envs/taller_ai_38/lib/python3.8/site-packages (from torch==2.0.1->torchvision==0.15.2) (3.14.0)\n",
      "Requirement already satisfied: typing-extensions in /opt/anaconda3/envs/taller_ai_38/lib/python3.8/site-packages (from torch==2.0.1->torchvision==0.15.2) (4.9.0)\n",
      "Requirement already satisfied: sympy in /opt/anaconda3/envs/taller_ai_38/lib/python3.8/site-packages (from torch==2.0.1->torchvision==0.15.2) (1.12.1)\n",
      "Requirement already satisfied: networkx in /opt/anaconda3/envs/taller_ai_38/lib/python3.8/site-packages (from torch==2.0.1->torchvision==0.15.2) (3.1)\n",
      "Requirement already satisfied: jinja2 in /opt/anaconda3/envs/taller_ai_38/lib/python3.8/site-packages (from torch==2.0.1->torchvision==0.15.2) (3.1.3)\n",
      "Requirement already satisfied: charset-normalizer<4,>=2 in /opt/anaconda3/envs/taller_ai_38/lib/python3.8/site-packages (from requests->torchvision==0.15.2) (2.0.4)\n",
      "Requirement already satisfied: idna<4,>=2.5 in /opt/anaconda3/envs/taller_ai_38/lib/python3.8/site-packages (from requests->torchvision==0.15.2) (3.4)\n",
      "Requirement already satisfied: urllib3<3,>=1.21.1 in /opt/anaconda3/envs/taller_ai_38/lib/python3.8/site-packages (from requests->torchvision==0.15.2) (2.1.0)\n",
      "Requirement already satisfied: certifi>=2017.4.17 in /opt/anaconda3/envs/taller_ai_38/lib/python3.8/site-packages (from requests->torchvision==0.15.2) (2024.6.2)\n",
      "Requirement already satisfied: MarkupSafe>=2.0 in /opt/anaconda3/envs/taller_ai_38/lib/python3.8/site-packages (from jinja2->torch==2.0.1->torchvision==0.15.2) (2.1.3)\n",
      "Requirement already satisfied: mpmath<1.4.0,>=1.1.0 in /opt/anaconda3/envs/taller_ai_38/lib/python3.8/site-packages (from sympy->torch==2.0.1->torchvision==0.15.2) (1.3.0)\n",
      "Looking in links: https://download.pytorch.org/whl/cu118/torch-2.1.0%2Bcu118-cp311-cp311-win_amd64.whl\n",
      "\u001b[33mWARNING: Skipping page https://download.pytorch.org/whl/cu118/torch-2.1.0%2Bcu118-cp311-cp311-win_amd64.whl because the HEAD request got Content-Type: binary/octet-stream. The only supported Content-Types are application/vnd.pypi.simple.v1+json, application/vnd.pypi.simple.v1+html, and text/html\u001b[0m\u001b[33m\n",
      "\u001b[0m\u001b[31mERROR: Could not find a version that satisfies the requirement torch==2.1.0+cu118 (from versions: 1.9.0, 1.10.0, 1.10.1, 1.10.2, 1.11.0, 1.12.0, 1.12.1, 1.13.0, 1.13.1, 2.0.0, 2.0.1, 2.1.0, 2.1.1, 2.1.2, 2.2.0, 2.2.1, 2.2.2, 2.3.0, 2.3.1)\u001b[0m\u001b[31m\n",
      "\u001b[0m\u001b[31mERROR: No matching distribution found for torch==2.1.0+cu118\u001b[0m\u001b[31m\n",
      "\u001b[0m\u001b[31mERROR: Ignored the following versions that require a different python version: 0.1.4 Requires-Python >=3.11; 0.1.5 Requires-Python >=3.11; 0.1.6 Requires-Python >=3.11\u001b[0m\u001b[31m\n",
      "\u001b[0m\u001b[31mERROR: Could not find a version that satisfies the requirement flappy-bird-env (from versions: none)\u001b[0m\u001b[31m\n",
      "\u001b[0m\u001b[31mERROR: No matching distribution found for flappy-bird-env\u001b[0m\u001b[31m\n",
      "\u001b[0mRequirement already satisfied: swig in /opt/anaconda3/envs/taller_ai_38/lib/python3.8/site-packages (4.2.1)\n",
      "Requirement already satisfied: matplotlib in /opt/anaconda3/envs/taller_ai_38/lib/python3.8/site-packages (3.7.5)\n",
      "Requirement already satisfied: contourpy>=1.0.1 in /opt/anaconda3/envs/taller_ai_38/lib/python3.8/site-packages (from matplotlib) (1.1.1)\n",
      "Requirement already satisfied: cycler>=0.10 in /opt/anaconda3/envs/taller_ai_38/lib/python3.8/site-packages (from matplotlib) (0.12.1)\n",
      "Requirement already satisfied: fonttools>=4.22.0 in /opt/anaconda3/envs/taller_ai_38/lib/python3.8/site-packages (from matplotlib) (4.49.0)\n",
      "Requirement already satisfied: kiwisolver>=1.0.1 in /opt/anaconda3/envs/taller_ai_38/lib/python3.8/site-packages (from matplotlib) (1.4.5)\n",
      "Requirement already satisfied: numpy<2,>=1.20 in /opt/anaconda3/envs/taller_ai_38/lib/python3.8/site-packages (from matplotlib) (1.24.3)\n",
      "Requirement already satisfied: packaging>=20.0 in /opt/anaconda3/envs/taller_ai_38/lib/python3.8/site-packages (from matplotlib) (23.1)\n",
      "Requirement already satisfied: pillow>=6.2.0 in /opt/anaconda3/envs/taller_ai_38/lib/python3.8/site-packages (from matplotlib) (10.2.0)\n",
      "Requirement already satisfied: pyparsing>=2.3.1 in /opt/anaconda3/envs/taller_ai_38/lib/python3.8/site-packages (from matplotlib) (3.1.2)\n",
      "Requirement already satisfied: python-dateutil>=2.7 in /opt/anaconda3/envs/taller_ai_38/lib/python3.8/site-packages (from matplotlib) (2.8.2)\n",
      "Requirement already satisfied: importlib-resources>=3.2.0 in /opt/anaconda3/envs/taller_ai_38/lib/python3.8/site-packages (from matplotlib) (6.1.1)\n",
      "Requirement already satisfied: zipp>=3.1.0 in /opt/anaconda3/envs/taller_ai_38/lib/python3.8/site-packages (from importlib-resources>=3.2.0->matplotlib) (3.17.0)\n",
      "Requirement already satisfied: six>=1.5 in /opt/anaconda3/envs/taller_ai_38/lib/python3.8/site-packages (from python-dateutil>=2.7->matplotlib) (1.16.0)\n",
      "Requirement already satisfied: moviepy in /opt/anaconda3/envs/taller_ai_38/lib/python3.8/site-packages (1.0.3)\n",
      "Requirement already satisfied: decorator<5.0,>=4.0.2 in /opt/anaconda3/envs/taller_ai_38/lib/python3.8/site-packages (from moviepy) (4.4.2)\n",
      "Requirement already satisfied: tqdm<5.0,>=4.11.2 in /opt/anaconda3/envs/taller_ai_38/lib/python3.8/site-packages (from moviepy) (4.66.2)\n",
      "Requirement already satisfied: requests<3.0,>=2.8.1 in /opt/anaconda3/envs/taller_ai_38/lib/python3.8/site-packages (from moviepy) (2.31.0)\n",
      "Requirement already satisfied: proglog<=1.0.0 in /opt/anaconda3/envs/taller_ai_38/lib/python3.8/site-packages (from moviepy) (0.1.10)\n",
      "Requirement already satisfied: numpy>=1.17.3 in /opt/anaconda3/envs/taller_ai_38/lib/python3.8/site-packages (from moviepy) (1.24.3)\n",
      "Requirement already satisfied: imageio<3.0,>=2.5 in /opt/anaconda3/envs/taller_ai_38/lib/python3.8/site-packages (from moviepy) (2.33.1)\n",
      "Requirement already satisfied: imageio-ffmpeg>=0.2.0 in /opt/anaconda3/envs/taller_ai_38/lib/python3.8/site-packages (from moviepy) (0.5.1)\n",
      "Requirement already satisfied: pillow>=8.3.2 in /opt/anaconda3/envs/taller_ai_38/lib/python3.8/site-packages (from imageio<3.0,>=2.5->moviepy) (10.2.0)\n",
      "Requirement already satisfied: setuptools in /opt/anaconda3/envs/taller_ai_38/lib/python3.8/site-packages (from imageio-ffmpeg>=0.2.0->moviepy) (68.2.2)\n",
      "Requirement already satisfied: charset-normalizer<4,>=2 in /opt/anaconda3/envs/taller_ai_38/lib/python3.8/site-packages (from requests<3.0,>=2.8.1->moviepy) (2.0.4)\n",
      "Requirement already satisfied: idna<4,>=2.5 in /opt/anaconda3/envs/taller_ai_38/lib/python3.8/site-packages (from requests<3.0,>=2.8.1->moviepy) (3.4)\n",
      "Requirement already satisfied: urllib3<3,>=1.21.1 in /opt/anaconda3/envs/taller_ai_38/lib/python3.8/site-packages (from requests<3.0,>=2.8.1->moviepy) (2.1.0)\n",
      "Requirement already satisfied: certifi>=2017.4.17 in /opt/anaconda3/envs/taller_ai_38/lib/python3.8/site-packages (from requests<3.0,>=2.8.1->moviepy) (2024.6.2)\n",
      "Requirement already satisfied: gymnasium[atari] in /opt/anaconda3/envs/taller_ai_38/lib/python3.8/site-packages (0.29.1)\n",
      "Requirement already satisfied: numpy>=1.21.0 in /opt/anaconda3/envs/taller_ai_38/lib/python3.8/site-packages (from gymnasium[atari]) (1.24.3)\n",
      "Requirement already satisfied: cloudpickle>=1.2.0 in /opt/anaconda3/envs/taller_ai_38/lib/python3.8/site-packages (from gymnasium[atari]) (2.2.1)\n",
      "Requirement already satisfied: typing-extensions>=4.3.0 in /opt/anaconda3/envs/taller_ai_38/lib/python3.8/site-packages (from gymnasium[atari]) (4.9.0)\n",
      "Requirement already satisfied: farama-notifications>=0.0.1 in /opt/anaconda3/envs/taller_ai_38/lib/python3.8/site-packages (from gymnasium[atari]) (0.0.4)\n",
      "Requirement already satisfied: importlib-metadata>=4.8.0 in /opt/anaconda3/envs/taller_ai_38/lib/python3.8/site-packages (from gymnasium[atari]) (7.0.1)\n",
      "Requirement already satisfied: shimmy<1.0,>=0.1.0 in /opt/anaconda3/envs/taller_ai_38/lib/python3.8/site-packages (from shimmy[atari]<1.0,>=0.1.0; extra == \"atari\"->gymnasium[atari]) (0.2.1)\n",
      "Requirement already satisfied: zipp>=0.5 in /opt/anaconda3/envs/taller_ai_38/lib/python3.8/site-packages (from importlib-metadata>=4.8.0->gymnasium[atari]) (3.17.0)\n",
      "Requirement already satisfied: ale-py~=0.8.1 in /opt/anaconda3/envs/taller_ai_38/lib/python3.8/site-packages (from shimmy[atari]<1.0,>=0.1.0; extra == \"atari\"->gymnasium[atari]) (0.8.1)\n",
      "Requirement already satisfied: importlib-resources in /opt/anaconda3/envs/taller_ai_38/lib/python3.8/site-packages (from ale-py~=0.8.1->shimmy[atari]<1.0,>=0.1.0; extra == \"atari\"->gymnasium[atari]) (6.1.1)\n",
      "Requirement already satisfied: gymnasium[accept-rom-license] in /opt/anaconda3/envs/taller_ai_38/lib/python3.8/site-packages (0.29.1)\n",
      "Requirement already satisfied: numpy>=1.21.0 in /opt/anaconda3/envs/taller_ai_38/lib/python3.8/site-packages (from gymnasium[accept-rom-license]) (1.24.3)\n",
      "Requirement already satisfied: cloudpickle>=1.2.0 in /opt/anaconda3/envs/taller_ai_38/lib/python3.8/site-packages (from gymnasium[accept-rom-license]) (2.2.1)\n",
      "Requirement already satisfied: typing-extensions>=4.3.0 in /opt/anaconda3/envs/taller_ai_38/lib/python3.8/site-packages (from gymnasium[accept-rom-license]) (4.9.0)\n",
      "Requirement already satisfied: farama-notifications>=0.0.1 in /opt/anaconda3/envs/taller_ai_38/lib/python3.8/site-packages (from gymnasium[accept-rom-license]) (0.0.4)\n",
      "Requirement already satisfied: importlib-metadata>=4.8.0 in /opt/anaconda3/envs/taller_ai_38/lib/python3.8/site-packages (from gymnasium[accept-rom-license]) (7.0.1)\n",
      "Requirement already satisfied: autorom~=0.4.2 in /opt/anaconda3/envs/taller_ai_38/lib/python3.8/site-packages (from autorom[accept-rom-license]~=0.4.2; extra == \"accept-rom-license\"->gymnasium[accept-rom-license]) (0.4.2)\n",
      "Requirement already satisfied: click in /opt/anaconda3/envs/taller_ai_38/lib/python3.8/site-packages (from autorom~=0.4.2->autorom[accept-rom-license]~=0.4.2; extra == \"accept-rom-license\"->gymnasium[accept-rom-license]) (8.1.7)\n",
      "Requirement already satisfied: requests in /opt/anaconda3/envs/taller_ai_38/lib/python3.8/site-packages (from autorom~=0.4.2->autorom[accept-rom-license]~=0.4.2; extra == \"accept-rom-license\"->gymnasium[accept-rom-license]) (2.31.0)\n",
      "Requirement already satisfied: tqdm in /opt/anaconda3/envs/taller_ai_38/lib/python3.8/site-packages (from autorom~=0.4.2->autorom[accept-rom-license]~=0.4.2; extra == \"accept-rom-license\"->gymnasium[accept-rom-license]) (4.66.2)\n",
      "Requirement already satisfied: importlib-resources in /opt/anaconda3/envs/taller_ai_38/lib/python3.8/site-packages (from autorom~=0.4.2->autorom[accept-rom-license]~=0.4.2; extra == \"accept-rom-license\"->gymnasium[accept-rom-license]) (6.1.1)\n",
      "Requirement already satisfied: AutoROM.accept-rom-license in /opt/anaconda3/envs/taller_ai_38/lib/python3.8/site-packages (from autorom[accept-rom-license]~=0.4.2; extra == \"accept-rom-license\"->gymnasium[accept-rom-license]) (0.6.1)\n",
      "Requirement already satisfied: zipp>=0.5 in /opt/anaconda3/envs/taller_ai_38/lib/python3.8/site-packages (from importlib-metadata>=4.8.0->gymnasium[accept-rom-license]) (3.17.0)\n",
      "Requirement already satisfied: charset-normalizer<4,>=2 in /opt/anaconda3/envs/taller_ai_38/lib/python3.8/site-packages (from requests->autorom~=0.4.2->autorom[accept-rom-license]~=0.4.2; extra == \"accept-rom-license\"->gymnasium[accept-rom-license]) (2.0.4)\n",
      "Requirement already satisfied: idna<4,>=2.5 in /opt/anaconda3/envs/taller_ai_38/lib/python3.8/site-packages (from requests->autorom~=0.4.2->autorom[accept-rom-license]~=0.4.2; extra == \"accept-rom-license\"->gymnasium[accept-rom-license]) (3.4)\n",
      "Requirement already satisfied: urllib3<3,>=1.21.1 in /opt/anaconda3/envs/taller_ai_38/lib/python3.8/site-packages (from requests->autorom~=0.4.2->autorom[accept-rom-license]~=0.4.2; extra == \"accept-rom-license\"->gymnasium[accept-rom-license]) (2.1.0)\n",
      "Requirement already satisfied: certifi>=2017.4.17 in /opt/anaconda3/envs/taller_ai_38/lib/python3.8/site-packages (from requests->autorom~=0.4.2->autorom[accept-rom-license]~=0.4.2; extra == \"accept-rom-license\"->gymnasium[accept-rom-license]) (2024.6.2)\n"
     ]
    }
   ],
   "source": [
    "#%%capture\n",
    "!pip install pyvirtualdisplay \n",
    "!apt-get install -y xvfb python-opengl ffmpeg \n",
    "!pip install opencv-python\n",
    "!pip install torchsummary\n",
    "!pip install pyglet==1.4.9\n",
    "!pip install torchvision==0.15.2 -f https://download.pytorch.org/whl/cu118/torchvision-0.18.0%2Bcu118-cp311-cp311-win_amd64.whl\n",
    "!pip install torch==2.1.0+cu118 -f https://download.pytorch.org/whl/cu118/torch-2.1.0%2Bcu118-cp311-cp311-win_amd64.whl\n",
    "!pip install flappy-bird-env\n",
    "!pip install swig\n",
    "!pip install matplotlib\n",
    "!pip install moviepy\n",
    "\n",
    "#!pip install gymnasium[atari]\n",
    "#!pip install gymnasium[accept-rom-license]\n",
    "\n",
    "# Se \"escapean\" los corchetes porque no reconoce el paquete de otra forma\n",
    "!pip install gymnasium\\[atari\\]\n",
    "!pip install gymnasium\\[accept-rom-license\\]"
   ]
  },
  {
   "cell_type": "markdown",
   "metadata": {
    "id": "gc6t9etEt9I2",
    "pycharm": {
     "name": "#%%\n"
    }
   },
   "source": [
    "Imports y configuraciones de ambiente"
   ]
  },
  {
   "cell_type": "code",
   "execution_count": 2,
   "metadata": {},
   "outputs": [],
   "source": [
    "# Para autoreload de módulos en caso de cambios\n",
    "%load_ext autoreload\n",
    "%autoreload 2"
   ]
  },
  {
   "cell_type": "code",
   "execution_count": 3,
   "metadata": {
    "id": "cwHCw6PMt9I3",
    "pycharm": {
     "name": "#%%\n"
    }
   },
   "outputs": [],
   "source": [
    "import os\n",
    "import torch\n",
    "import numpy as np\n",
    "import matplotlib.pyplot as plt\n",
    "import random\n",
    "import numpy as np\n",
    "import torch.nn as nn\n",
    "import torch.nn.functional as F\n",
    "import utils\n",
    "import gymnasium"
   ]
  },
  {
   "cell_type": "markdown",
   "metadata": {
    "id": "ySRyzNz8t9I3"
   },
   "source": [
    "Checkeo de devices"
   ]
  },
  {
   "cell_type": "code",
   "execution_count": 4,
   "metadata": {},
   "outputs": [
    {
     "name": "stdout",
     "output_type": "stream",
     "text": [
      "mps\n"
     ]
    }
   ],
   "source": [
    "# Utilizamos MPS bajo MacOS\n",
    "if not torch.backends.mps.is_available():\n",
    "    if not torch.backends.mps.is_built():\n",
    "        print(\"MPS not available because the current PyTorch install was not \"\n",
    "              \"built with MPS enabled.\")\n",
    "    else:\n",
    "        print(\"MPS not available because the current MacOS version is not 12.3+ \"\n",
    "              \"and/or you do not have an MPS-enabled device on this machine.\")\n",
    "\n",
    "else:\n",
    "    mps_device = torch.device(\"mps\")\n",
    "\n",
    "    # Create a Tensor directly on the mps device\n",
    "    x = torch.ones(5, device=mps_device)\n",
    "    # Or\n",
    "    x = torch.ones(5, device=\"mps\")\n",
    "\n",
    "    # Any operation happens on the GPU\n",
    "    y = x * 2\n",
    "\n",
    "    print(mps_device)\n",
    "\n"
   ]
  },
  {
   "cell_type": "code",
   "execution_count": 5,
   "metadata": {
    "colab": {
     "base_uri": "https://localhost:8080/"
    },
    "id": "8zcyB176t9I3",
    "outputId": "4239691d-04a7-47de-9898-ee53cf047a8c"
   },
   "outputs": [
    {
     "name": "stdout",
     "output_type": "stream",
     "text": [
      "Running on mps\n",
      "Cuda Available: False\n"
     ]
    }
   ],
   "source": [
    "# torch.zeros(1).cuda()\n",
    "\n",
    "# DEVICE = torch.device('cuda:0' if torch.cuda.is_available() else 'cpu')\n",
    "DEVICE = torch.device(\"mps\")\n",
    "print(f\"Running on {DEVICE}\")\n",
    "\n",
    "random.seed(42)\n",
    "np.random.seed(42)\n",
    "torch.manual_seed(42)\n",
    "torch.backends.cudnn.deterministic = True\n",
    "\n",
    "print(\"Cuda Available:\", torch.cuda.is_available())"
   ]
  },
  {
   "cell_type": "markdown",
   "metadata": {
    "id": "xcfjdDuQt9I4"
   },
   "source": [
    "Setting de seeds"
   ]
  },
  {
   "cell_type": "code",
   "execution_count": 6,
   "metadata": {
    "id": "bxW_5r15t9I5"
   },
   "outputs": [],
   "source": [
    "random.seed(42)\n",
    "np.random.seed(42)\n",
    "torch.manual_seed(42)\n",
    "torch.backends.cudnn.deterministic = True"
   ]
  },
  {
   "cell_type": "markdown",
   "metadata": {
    "id": "2bYVG_TKt9I5"
   },
   "source": [
    "Validacion del ambiente"
   ]
  },
  {
   "cell_type": "code",
   "execution_count": 7,
   "metadata": {
    "colab": {
     "base_uri": "https://localhost:8080/"
    },
    "id": "loVxQPrwt9I5",
    "outputId": "18b7ed97-88dd-4b1e-a2cc-b2636686bfc7"
   },
   "outputs": [
    {
     "name": "stdout",
     "output_type": "stream",
     "text": [
      "Actions # Discrete(6)\n",
      "(210, 160, 3)\n",
      "(210, 160, 3),\n",
      " 0.0,\n",
      " False,\n",
      " {'lives': 4, 'episode_frame_number': 4, 'frame_number': 4}\n"
     ]
    },
    {
     "name": "stderr",
     "output_type": "stream",
     "text": [
      "A.L.E: Arcade Learning Environment (version 0.8.1+53f58b7)\n",
      "[Powered by Stella]\n"
     ]
    }
   ],
   "source": [
    "ENV_NAME = \"ALE/Galaxian-v5\"\n",
    "\n",
    "env = gymnasium.make(ENV_NAME, render_mode=\"rgb_array\")\n",
    "\n",
    "print(\"Actions #\",env.action_space)\n",
    "print(env.observation_space.shape)\n",
    "env.reset()\n",
    "next_state, reward, terminated, truncated, info = env.step(action=0)\n",
    "\n",
    "print(f\"{next_state.shape},\\n {reward},\\n {terminated},\\n {info}\")"
   ]
  },
  {
   "cell_type": "code",
   "execution_count": 8,
   "metadata": {
    "colab": {
     "base_uri": "https://localhost:8080/"
    },
    "id": "f5LX5VNcvK-3",
    "outputId": "bf549ab5-c66d-4460-8e3e-106fb9f0971f"
   },
   "outputs": [
    {
     "data": {
      "text/plain": [
       "tensor([[[0., 0., 0.],\n",
       "         [0., 0., 0.],\n",
       "         [0., 0., 0.],\n",
       "         ...,\n",
       "         [0., 0., 0.],\n",
       "         [0., 0., 0.],\n",
       "         [0., 0., 0.]],\n",
       "\n",
       "        [[0., 0., 0.],\n",
       "         [0., 0., 0.],\n",
       "         [0., 0., 0.],\n",
       "         ...,\n",
       "         [0., 0., 0.],\n",
       "         [0., 0., 0.],\n",
       "         [0., 0., 0.]],\n",
       "\n",
       "        [[0., 0., 0.],\n",
       "         [0., 0., 0.],\n",
       "         [0., 0., 0.],\n",
       "         ...,\n",
       "         [0., 0., 0.],\n",
       "         [0., 0., 0.],\n",
       "         [0., 0., 0.]],\n",
       "\n",
       "        ...,\n",
       "\n",
       "        [[0., 0., 0.],\n",
       "         [0., 0., 0.],\n",
       "         [0., 0., 0.],\n",
       "         ...,\n",
       "         [0., 0., 0.],\n",
       "         [0., 0., 0.],\n",
       "         [0., 0., 0.]],\n",
       "\n",
       "        [[0., 0., 0.],\n",
       "         [0., 0., 0.],\n",
       "         [0., 0., 0.],\n",
       "         ...,\n",
       "         [0., 0., 0.],\n",
       "         [0., 0., 0.],\n",
       "         [0., 0., 0.]],\n",
       "\n",
       "        [[0., 0., 0.],\n",
       "         [0., 0., 0.],\n",
       "         [0., 0., 0.],\n",
       "         ...,\n",
       "         [0., 0., 0.],\n",
       "         [0., 0., 0.],\n",
       "         [0., 0., 0.]]])"
      ]
     },
     "execution_count": 8,
     "metadata": {},
     "output_type": "execute_result"
    }
   ],
   "source": [
    "next_state, reward, terminated, truncated, info = env.step(action=0)\n",
    "torch.Tensor(next_state[:])"
   ]
  },
  {
   "cell_type": "code",
   "execution_count": 9,
   "metadata": {
    "colab": {
     "base_uri": "https://localhost:8080/",
     "height": 428
    },
    "id": "NHJmd1qet9I5",
    "outputId": "a471000c-fe89-41fd-be36-b23e9c407d34"
   },
   "outputs": [
    {
     "name": "stderr",
     "output_type": "stream",
     "text": [
      "/opt/anaconda3/envs/taller_ai_38/lib/python3.8/site-packages/gymnasium/utils/passive_env_checker.py:335: UserWarning: \u001b[33mWARN: No render fps was declared in the environment (env.metadata['render_fps'] is None or not defined), rendering may occur at inconsistent fps.\u001b[0m\n",
      "  logger.warn(\n"
     ]
    },
    {
     "data": {
      "image/png": "[encoded data removed]",
      "text/plain": [
       "<Figure size 640x480 with 1 Axes>"
      ]
     },
     "metadata": {},
     "output_type": "display_data"
    }
   ],
   "source": [
    "utils.show_state(env)"
   ]
  },
  {
   "cell_type": "code",
   "execution_count": 10,
   "metadata": {},
   "outputs": [
    {
     "data": {
      "text/plain": [
       "array([[[0, 0, 0],\n",
       "        [0, 0, 0],\n",
       "        [0, 0, 0],\n",
       "        ...,\n",
       "        [0, 0, 0],\n",
       "        [0, 0, 0],\n",
       "        [0, 0, 0]],\n",
       "\n",
       "       [[0, 0, 0],\n",
       "        [0, 0, 0],\n",
       "        [0, 0, 0],\n",
       "        ...,\n",
       "        [0, 0, 0],\n",
       "        [0, 0, 0],\n",
       "        [0, 0, 0]],\n",
       "\n",
       "       [[0, 0, 0],\n",
       "        [0, 0, 0],\n",
       "        [0, 0, 0],\n",
       "        ...,\n",
       "        [0, 0, 0],\n",
       "        [0, 0, 0],\n",
       "        [0, 0, 0]],\n",
       "\n",
       "       ...,\n",
       "\n",
       "       [[0, 0, 0],\n",
       "        [0, 0, 0],\n",
       "        [0, 0, 0],\n",
       "        ...,\n",
       "        [0, 0, 0],\n",
       "        [0, 0, 0],\n",
       "        [0, 0, 0]],\n",
       "\n",
       "       [[0, 0, 0],\n",
       "        [0, 0, 0],\n",
       "        [0, 0, 0],\n",
       "        ...,\n",
       "        [0, 0, 0],\n",
       "        [0, 0, 0],\n",
       "        [0, 0, 0]],\n",
       "\n",
       "       [[0, 0, 0],\n",
       "        [0, 0, 0],\n",
       "        [0, 0, 0],\n",
       "        ...,\n",
       "        [0, 0, 0],\n",
       "        [0, 0, 0],\n",
       "        [0, 0, 0]]], dtype=uint8)"
      ]
     },
     "execution_count": 10,
     "metadata": {},
     "output_type": "execute_result"
    }
   ],
   "source": [
    "env.render()"
   ]
  },
  {
   "cell_type": "code",
   "execution_count": 11,
   "metadata": {
    "colab": {
     "base_uri": "https://localhost:8080/"
    },
    "id": "z2iyQui5t9I7",
    "outputId": "aaecf9cb-a514-4a8b-bffe-771c1ce9108e"
   },
   "outputs": [
    {
     "name": "stderr",
     "output_type": "stream",
     "text": [
      "/opt/anaconda3/envs/taller_ai_38/lib/python3.8/site-packages/gymnasium/wrappers/record_video.py:94: UserWarning: \u001b[33mWARN: Overwriting existing videos at /Users/gotero/facultad/2024/jupyter_notebooks_both_courses/tallerai/obligatorio/video folder (try specifying a different `video_folder` for the `RecordVideo` wrapper if this is not desired)\u001b[0m\n",
      "  logger.warn(\n"
     ]
    },
    {
     "name": "stdout",
     "output_type": "stream",
     "text": [
      "Moviepy - Building video /Users/gotero/facultad/2024/jupyter_notebooks_both_courses/tallerai/obligatorio/video/rl-video-episode-0.mp4.\n",
      "Moviepy - Writing video /Users/gotero/facultad/2024/jupyter_notebooks_both_courses/tallerai/obligatorio/video/rl-video-episode-0.mp4\n",
      "\n"
     ]
    },
    {
     "name": "stderr",
     "output_type": "stream",
     "text": [
      "                                                                                                                                                                                      "
     ]
    },
    {
     "name": "stdout",
     "output_type": "stream",
     "text": [
      "Moviepy - Done !\n",
      "Moviepy - video ready /Users/gotero/facultad/2024/jupyter_notebooks_both_courses/tallerai/obligatorio/video/rl-video-episode-0.mp4\n"
     ]
    },
    {
     "name": "stderr",
     "output_type": "stream",
     "text": [
      "\r"
     ]
    },
    {
     "name": "stdout",
     "output_type": "stream",
     "text": [
      "Moviepy - Building video /Users/gotero/facultad/2024/jupyter_notebooks_both_courses/tallerai/obligatorio/video/rl-video-episode-0.mp4.\n",
      "Moviepy - Writing video /Users/gotero/facultad/2024/jupyter_notebooks_both_courses/tallerai/obligatorio/video/rl-video-episode-0.mp4\n",
      "\n"
     ]
    },
    {
     "name": "stderr",
     "output_type": "stream",
     "text": [
      "                                                                                                                                                                                      "
     ]
    },
    {
     "name": "stdout",
     "output_type": "stream",
     "text": [
      "Moviepy - Done !\n",
      "Moviepy - video ready /Users/gotero/facultad/2024/jupyter_notebooks_both_courses/tallerai/obligatorio/video/rl-video-episode-0.mp4\n"
     ]
    },
    {
     "name": "stderr",
     "output_type": "stream",
     "text": [
      "\r"
     ]
    }
   ],
   "source": [
    "from IPython.display import HTML\n",
    "from pyvirtualdisplay import Display\n",
    "\n",
    "##display = Display(visible=0, size=(1400, 900),color_depth=16)\n",
    "#isplay.start()\n",
    "\n",
    "wrapped_env = utils.wrap_env(env)\n",
    "state = wrapped_env.reset()\n",
    "\n",
    "# Start the recorder\n",
    "wrapped_env.start_video_recorder()\n",
    "\n",
    "while True:        \n",
    "  wrapped_env.render()\n",
    "  state, reward, terminated, truncated, info = wrapped_env.step(wrapped_env.action_space.sample())\n",
    "  if terminated or truncated:\n",
    "    break\n",
    "\n",
    "####\n",
    "# Don't forget to close the video recorder before the env!\n",
    "wrapped_env.close_video_recorder()\n",
    "\n",
    "# Close the environment\n",
    "\n",
    "wrapped_env.close()"
   ]
  },
  {
   "cell_type": "code",
   "execution_count": 12,
   "metadata": {
    "colab": {
     "base_uri": "https://localhost:8080/",
     "height": 421
    },
    "id": "OrSwWgmyt9I7",
    "outputId": "cb44ee02-4bb4-4b5a-a1b1-bf090edb2b10"
   },
   "outputs": [
    {
     "data": {
      "text/html": [
       "<video alt=\"test\" autoplay \n",
       "                    loop controls style=\"height: 400px;\">\n",
       "                    <source src=\"data:video/mp4;base64,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\" type=\"video/mp4\" />\n",
       "                 </video>"
      ],
      "text/plain": [
       "<IPython.core.display.HTML object>"
      ]
     },
     "metadata": {},
     "output_type": "display_data"
    }
   ],
   "source": [
    "utils.show_video()"
   ]
  },
  {
   "cell_type": "markdown",
   "metadata": {
    "id": "XIHpwiaat9I7"
   },
   "source": [
    "# Deep Q Learning\n",
    "\n",
    "\n",
    "Recomendamos empezar implementando Deep Q Learning (paper presentado por DeepMind, pueden encontrar el mismo en arxiv: https://arxiv.org/pdf/1312.5602.pdf0).\n",
    "\n",
    "***\n",
    "\n",
    "En las celdas siguientes dejamos el código que deben implementar asi como una explicación del mismo."
   ]
  },
  {
   "cell_type": "markdown",
   "metadata": {
    "id": "ajTGajUftSgY",
    "pycharm": {
     "name": "#%% md\n"
    }
   },
   "source": [
    "# Memoria\n",
    "\n",
    "El algoritmo de Deep Q Learning presentado en el paper utiliza una memoria (llamada Replay Memory) para almacenar transiciones pasadas. Tuplas que contienen un estado base, la accion tomada, la recompensa obtenida, una bandera que indica si el siguiente estado es final o no; y el estado siguiente.\n",
    "\n",
    "Esta memoria es circular, es decir, tiene un límite maximo de elementos y una vez esté llena comienza a reemplazar los elementos más viejos.\n",
    "\n",
    "Vamos a necesitar crear una función **sample** que obtiene una mustra aleatoria de elementos de la memoria.  Esto puede ser una lista de Transiciones o listas separadas (pero alineadas) de los elementos que las componen.\n",
    "\n",
    "***\n",
    "\n",
    "Para implementar esta funcionalidad se debe modificar el archivo **replay_memory.py**\n"
   ]
  },
  {
   "cell_type": "code",
   "execution_count": 13,
   "metadata": {
    "id": "scPtpbz4tTAh",
    "outputId": "0890f48a-e673-4416-bd69-7dcf2730ba64",
    "pycharm": {
     "name": "#%%\n"
    }
   },
   "outputs": [],
   "source": [
    "from replay_memory import ReplayMemory"
   ]
  },
  {
   "cell_type": "markdown",
   "metadata": {
    "id": "j7Ygv5Mjtb-F",
    "pycharm": {
     "name": "#%% md\n"
    }
   },
   "source": [
    "# Modelo\n",
    "\n",
    "Vamos a usar un mismo modelo FeedForward para estos dos problemas (entrenado en cada problema particular). Recomendamos simplicidad en la creación del mismo, pero tienen total libertad al momento de implementarlo.\n",
    "\n",
    "***\n",
    "Para implementar esta funcionalidad se debe modificar el archivo **dqn_cnn_model.py**\n"
   ]
  },
  {
   "cell_type": "code",
   "execution_count": 22,
   "metadata": {},
   "outputs": [
    {
     "name": "stdout",
     "output_type": "stream",
     "text": [
      "Using device: cpu\n"
     ]
    }
   ],
   "source": [
    "#DEVICE = torch.device('mps') if torch.has_mps else torch.device('cuda' if torch.cuda.is_available() else 'cpu')\n",
    "DEVICE = torch.device('cpu')\n",
    "print(f'Using device: {DEVICE}')"
   ]
  },
  {
   "cell_type": "code",
   "execution_count": 23,
   "metadata": {
    "id": "bkNBvJB6ryp7",
    "pycharm": {
     "name": "#%%\n"
    }
   },
   "outputs": [
    {
     "name": "stdout",
     "output_type": "stream",
     "text": [
      "----------------------------------------------------------------\n",
      "        Layer (type)               Output Shape         Param #\n",
      "================================================================\n",
      "            Conv2d-1           [-1, 32, 21, 21]           8,224\n",
      "            Conv2d-2           [-1, 64, 10, 10]          32,832\n",
      "            Conv2d-3           [-1, 64, 10, 10]          36,928\n",
      "            Linear-4                  [-1, 512]       3,277,312\n",
      "            Linear-5                    [-1, 6]           3,078\n",
      "================================================================\n",
      "Total params: 3,358,374\n",
      "Trainable params: 3,358,374\n",
      "Non-trainable params: 0\n",
      "----------------------------------------------------------------\n",
      "Input size (MB): 0.11\n",
      "Forward/backward pass size (MB): 0.21\n",
      "Params size (MB): 12.81\n",
      "Estimated Total Size (MB): 13.13\n",
      "----------------------------------------------------------------\n"
     ]
    }
   ],
   "source": [
    "from dqn_cnn_model import DQN_CNN_Model\n",
    "\n",
    "env = gymnasium.make(ENV_NAME) \n",
    "test_env = utils.make_env(ENV_NAME,render_mode='rgb_array')\n",
    "\n",
    "#print(test_env.observation_space.shape)\n",
    "#print(test_env.action_space.n)\n",
    "#print(test_env.observation_space.shape[0])\n",
    "\n",
    "#newobs, state = test_env.reset()\n",
    "#print(newobs.shape)\n",
    "test_net = DQN_CNN_Model(test_env.observation_space.shape, test_env.action_space.n).to(DEVICE)\n",
    "from torchsummary import summary\n",
    "summary(test_net, test_env.observation_space.shape)"
   ]
  },
  {
   "cell_type": "markdown",
   "metadata": {
    "id": "z9B7ZY9Htj_F",
    "pycharm": {
     "name": "#%% md\n"
    }
   },
   "source": [
    "# Agente\n",
    "\n",
    "Vamos a definir una clase agente, encargado de interactuar con el ambiente y entrenar los modelos. Los métdos definidos deben funcionar para ambos problemas simplemente cambiando el modelo a utilizar para cada ambiente.\n",
    "\n",
    "Abajo dejamos un esqueleto del mismo y las funciones a completar. Recomendamos no alterar la estructura del mismo, pero pueden definir las funciones auxiliares que consideren necesarias.\n",
    "\n",
    "Una aclaracion particular es sobre los últimos tres parametros del agente, representan los valores de epsilon_inicial, epsilon_final y el tiempo (numero de steps) que tardamos en llegar del epsilon final al inicial (puede decrementarlo de forma lineal o exponencial en el número de steps).\n",
    "\n",
    "***\n",
    "\n",
    "Para implementar esta funcionalidad se debe modificar los archivos **abstract_agent.py**, **dqn_agent.py** y **double_dqn_agent.py**.\n",
    "\n",
    "Funciones a completar:\n",
    "\n",
    "\n",
    "1. init: que inicializa los parametros del agente.\n",
    "\n",
    "2. compute_epsilon: que computa el valor actual de epsilon en base al número de pasos actuales.\n",
    "\n",
    "3. select_action: Seleccionando acciones \"epsilongreedy-mente\" si estamos entranando y completamente greedy en otro caso.\n",
    "\n",
    "4. train: que entrena el agente por un número dado de episodios de largo determinado.\n",
    "\n",
    "5. record_test_episode: para grabar un episodio con el agente siempre seleccionando la mejor accion conocida."
   ]
  },
  {
   "cell_type": "markdown",
   "metadata": {
    "id": "BOD-ENZRtyMt",
    "pycharm": {
     "name": "#%% md\n"
    }
   },
   "source": [
    "# Entrenamiento\n",
    "\n",
    "Para entrenar van a necesitar definir:\n",
    "\n",
    "1. El ambiente.\n",
    "2. Una instancia del modelo a utilizar para el problema (ej: `model = DQNModel(espacio_obs, num_acciones)`.\n",
    "3. La función para procesar los estados (phi en el paper) que es necesaria para poder usar el modelo de Pytorch con las representaciones de gym.\n",
    "\n",
    "Una vez definido pueden llamar a la función train del agente para entrenarlo y problar las demás funciones.\n",
    "\n",
    "***\n",
    "\n",
    "Una de las cosas que recomendamos hacer para probar los algoritmos es entrenar el agente por una cantidad X de episodios, grabar un video para observar progreso, volver a entrenar el mismo agente y volver a grabar un video, todas las veces que considere necesario.\n",
    "\n",
    "***"
   ]
  },
  {
   "cell_type": "code",
   "execution_count": 24,
   "metadata": {
    "id": "D7pZCrhMt9I9",
    "pycharm": {
     "name": "#%%\n"
    }
   },
   "outputs": [],
   "source": [
    "%load_ext tensorboard"
   ]
  },
  {
   "cell_type": "code",
   "execution_count": 25,
   "metadata": {
    "id": "oegpMg25t9I9",
    "pycharm": {
     "name": "#%%\n"
    }
   },
   "outputs": [],
   "source": [
    "def process_state(obs):\n",
    "    # Transforme la observacion en un tensor de floats.\n",
    "    # Recibo 4 imágenes. Se pasa a tensores.\n",
    "    return torch.tensor(obs, dtype=torch.float32).to(DEVICE)\n",
    "\n",
    "#Hiperparámetros de entrenamiento del agente DQN\n",
    "TOTAL_STEPS =1000000\n",
    "EPISODES = 5\n",
    "STEPS = 10000\n",
    "\n",
    "EPSILON_INI = 1\n",
    "EPSILON_MIN = 0.02\n",
    "EPSILON_DECAY = 0.99998599985\n",
    "EPSILON_TIME = 1000\n",
    "EPISODE_BLOCK = 10\n",
    "\n",
    "BATCH_SIZE = 32\n",
    "BUFFER_SIZE = 10000\n",
    "\n",
    "GAMMA = 0.99\n",
    "LEARNING_RATE = 1e-4"
   ]
  },
  {
   "cell_type": "code",
   "execution_count": 40,
   "metadata": {},
   "outputs": [
    {
     "name": "stderr",
     "output_type": "stream",
     "text": [
      "  0%|                                                                                                                                                    | 0/5 [00:00<?, ? episodes/s]"
     ]
    },
    {
     "name": "stdout",
     "output_type": "stream",
     "text": [
      "Valor de Epsilon...\n",
      "None\n"
     ]
    },
    {
     "name": "stderr",
     "output_type": "stream",
     "text": [
      "\n"
     ]
    },
    {
     "ename": "TypeError",
     "evalue": "'<' not supported between instances of 'float' and 'NoneType'",
     "output_type": "error",
     "traceback": [
      "\u001b[0;31m---------------------------------------------------------------------------\u001b[0m",
      "\u001b[0;31mTypeError\u001b[0m                                 Traceback (most recent call last)",
      "Cell \u001b[0;32mIn[40], line 18\u001b[0m\n\u001b[1;32m     15\u001b[0m \u001b[38;5;66;03m#gym_env, model, obs_processing_func, memory_buffer_size, batch_size, learning_rate, gamma, epsilon_i, epsilon_f, epsilon_anneal_time\u001b[39;00m\n\u001b[1;32m     16\u001b[0m agent \u001b[38;5;241m=\u001b[39m DQNAgent(env, net, process_state, BUFFER_SIZE, BATCH_SIZE, LEARNING_RATE, GAMMA, epsilon_i\u001b[38;5;241m=\u001b[39m EPSILON_INI, epsilon_f\u001b[38;5;241m=\u001b[39mEPSILON_MIN, epsilon_anneal_time\u001b[38;5;241m=\u001b[39mEPSILON_TIME, epsilon_decay \u001b[38;5;241m=\u001b[39m EPSILON_DECAY, episode_block \u001b[38;5;241m=\u001b[39m EPISODE_BLOCK, device\u001b[38;5;241m=\u001b[39mDEVICE)\n\u001b[0;32m---> 18\u001b[0m rewards \u001b[38;5;241m=\u001b[39m \u001b[43magent\u001b[49m\u001b[38;5;241;43m.\u001b[39;49m\u001b[43mtrain\u001b[49m\u001b[43m(\u001b[49m\u001b[43mEPISODES\u001b[49m\u001b[43m,\u001b[49m\u001b[43m \u001b[49m\u001b[43mSTEPS\u001b[49m\u001b[43m,\u001b[49m\u001b[43m \u001b[49m\u001b[43mTOTAL_STEPS\u001b[49m\u001b[43m,\u001b[49m\u001b[43m \u001b[49m\u001b[43mwriter_name\u001b[49m\u001b[43m \u001b[49m\u001b[38;5;241;43m=\u001b[39;49m\u001b[43m \u001b[49m\u001b[43mENV_NAME\u001b[49m\u001b[43m)\u001b[49m\n",
      "File \u001b[0;32m~/facultad/2024/jupyter_notebooks_both_courses/tallerai/obligatorio/abstract_agent.py:57\u001b[0m, in \u001b[0;36mAgent.train\u001b[0;34m(self, number_episodes, max_steps_episode, max_steps, writer_name)\u001b[0m\n\u001b[1;32m     52\u001b[0m state \u001b[38;5;241m=\u001b[39m \u001b[38;5;28mself\u001b[39m\u001b[38;5;241m.\u001b[39menv\u001b[38;5;241m.\u001b[39mreset()\n\u001b[1;32m     54\u001b[0m \u001b[38;5;28;01mfor\u001b[39;00m s \u001b[38;5;129;01min\u001b[39;00m \u001b[38;5;28mrange\u001b[39m(max_steps):\n\u001b[1;32m     55\u001b[0m \n\u001b[1;32m     56\u001b[0m     \u001b[38;5;66;03m# Seleccionar accion usando una política epsilon-greedy.\u001b[39;00m\n\u001b[0;32m---> 57\u001b[0m     action \u001b[38;5;241m=\u001b[39m \u001b[38;5;28;43mself\u001b[39;49m\u001b[38;5;241;43m.\u001b[39;49m\u001b[43mselect_action\u001b[49m\u001b[43m(\u001b[49m\u001b[43mstate\u001b[49m\u001b[43m,\u001b[49m\u001b[43m \u001b[49m\u001b[43mtotal_steps\u001b[49m\u001b[43m,\u001b[49m\u001b[43m \u001b[49m\u001b[43mtrain\u001b[49m\u001b[38;5;241;43m=\u001b[39;49m\u001b[38;5;28;43;01mTrue\u001b[39;49;00m\u001b[43m)\u001b[49m\n\u001b[1;32m     59\u001b[0m     \u001b[38;5;66;03m# Ejecutar la accion, observar resultado y procesarlo como indica el algoritmo.\u001b[39;00m\n\u001b[1;32m     60\u001b[0m     newobs, reward, done, truncated, _ \u001b[38;5;241m=\u001b[39m \u001b[38;5;28mself\u001b[39m\u001b[38;5;241m.\u001b[39menv\u001b[38;5;241m.\u001b[39mstep(action)\n",
      "File \u001b[0;32m~/facultad/2024/jupyter_notebooks_both_courses/tallerai/obligatorio/dqn_agent.py:34\u001b[0m, in \u001b[0;36mDQNAgent.select_action\u001b[0;34m(self, state, current_steps, train)\u001b[0m\n\u001b[1;32m     31\u001b[0m \u001b[38;5;66;03m# Implementar. Seleccionando acciones epsilongreedy-mente si estamos entranando y completamente greedy en otro caso.\u001b[39;00m\n\u001b[1;32m     32\u001b[0m \u001b[38;5;28;01mif\u001b[39;00m train:\n\u001b[1;32m     33\u001b[0m   \u001b[38;5;66;03m# Entrenamos, por lo que las acciones deben ser epsilon-greedy\u001b[39;00m\n\u001b[0;32m---> 34\u001b[0m   \u001b[38;5;28;01mif\u001b[39;00m \u001b[43mrandom\u001b[49m\u001b[38;5;241;43m.\u001b[39;49m\u001b[43mrandom\u001b[49m\u001b[43m(\u001b[49m\u001b[43m)\u001b[49m\u001b[43m \u001b[49m\u001b[38;5;241;43m<\u001b[39;49m\u001b[43m \u001b[49m\u001b[38;5;28;43mself\u001b[39;49m\u001b[38;5;241;43m.\u001b[39;49m\u001b[43mepsilon\u001b[49m:\n\u001b[1;32m     35\u001b[0m     \u001b[38;5;66;03m# Exploramos\u001b[39;00m\n\u001b[1;32m     36\u001b[0m     \u001b[38;5;28;01mreturn\u001b[39;00m \u001b[38;5;28mself\u001b[39m\u001b[38;5;241m.\u001b[39menv\u001b[38;5;241m.\u001b[39maction_space\u001b[38;5;241m.\u001b[39msample()\n\u001b[1;32m     37\u001b[0m   \u001b[38;5;28;01melse\u001b[39;00m:\n\u001b[1;32m     38\u001b[0m     \u001b[38;5;66;03m# Explotamos\u001b[39;00m\n",
      "\u001b[0;31mTypeError\u001b[0m: '<' not supported between instances of 'float' and 'NoneType'"
     ]
    }
   ],
   "source": [
    "from dqn_agent import DQNAgent\n",
    "env = gymnasium.make(ENV_NAME)\n",
    "env = utils.make_env(ENV_NAME, render_mode='rgb_array')\n",
    "\n",
    "# Cada vez que hacemos un experimento reseteamos la semilla para tener reproducibilidad\n",
    "env.seed(42)\n",
    "random.seed(42)\n",
    "np.random.seed(42)\n",
    "torch.manual_seed(42)\n",
    "torch.backends.cudnn.deterministic = True\n",
    "\n",
    "net = DQN_CNN_Model(env.observation_space.shape, env.action_space.n).to(DEVICE)\n",
    "\n",
    "\n",
    "#gym_env, model, obs_processing_func, memory_buffer_size, batch_size, learning_rate, gamma, epsilon_i, epsilon_f, epsilon_anneal_time\n",
    "agent = DQNAgent(env, net, process_state, BUFFER_SIZE, BATCH_SIZE, LEARNING_RATE, GAMMA, epsilon_i= EPSILON_INI, epsilon_f=EPSILON_MIN, epsilon_anneal_time=EPSILON_TIME, epsilon_decay = EPSILON_DECAY, episode_block = EPISODE_BLOCK, device=DEVICE)\n",
    "\n",
    "rewards = agent.train(EPISODES, STEPS, TOTAL_STEPS, writer_name = ENV_NAME)"
   ]
  },
  {
   "cell_type": "code",
   "execution_count": null,
   "metadata": {
    "id": "BsTl-pFqt10b",
    "pycharm": {
     "name": "#%%\n"
    }
   },
   "outputs": [],
   "source": [
    "from dqn_agent import DQNAgent\n",
    "env = gymnasium.make(ENV_NAME)\n",
    "env = utils.make_env(ENV_NAME,render_mode='rgb_array')\n",
    "\n",
    "# Cada vez que hacemos un experimento reseteamos la semilla para tener reproducibilidad\n",
    "env.seed(42)\n",
    "random.seed(42)\n",
    "np.random.seed(42)\n",
    "torch.manual_seed(42)\n",
    "torch.backends.cudnn.deterministic = True\n",
    "\n",
    "net = DQN_CNN_Model(env.observation_space.shape, env.action_space.n).to(DEVICE)\n",
    "\n",
    "\n",
    "#gym_env, model, obs_processing_func, memory_buffer_size, batch_size, learning_rate, gamma, epsilon_i, epsilon_f, epsilon_anneal_time\n",
    "agent = DQNAgent(env, net, process_state, BUFFER_SIZE, BATCH_SIZE, LEARNING_RATE, GAMMA, epsilon_i= EPSILON_INI, epsilon_f=EPSILON_MIN, epsilon_anneal_time=EPSILON_TIME, epsilon_decay = EPSILON_DECAY, episode_block = EPISODE_BLOCK, device=DEVICE)\n",
    "\n",
    "rewards = agent.train(EPISODES, STEPS, TOTAL_STEPS, writer_name = ENV_NAME)"
   ]
  },
  {
   "cell_type": "code",
   "execution_count": null,
   "metadata": {
    "id": "et1TEQJ3t9I-",
    "pycharm": {
     "name": "#%%\n"
    }
   },
   "outputs": [],
   "source": [
    "tensorboard  --logdir=runs"
   ]
  },
  {
   "cell_type": "markdown",
   "metadata": {
    "id": "t5H88XXxuLVn",
    "pycharm": {
     "name": "#%% md\n"
    }
   },
   "source": [
    "# Videos\n",
    "\n",
    "Para grabar los videos hacemos uso de la funcion `record_test_episode`  definida en nuestro agente.\n",
    "\n",
    "Dejamos un ejemplo de como hacerlo:"
   ]
  },
  {
   "cell_type": "code",
   "execution_count": null,
   "metadata": {
    "id": "pMZrPTlTuMCj",
    "pycharm": {
     "name": "#%%\n"
    }
   },
   "outputs": [],
   "source": [
    "#initial environment\n",
    "env = gymnasium.make(ENV_NAME)\n",
    "env = utils.SkipFrame(env, 4)\n",
    "wrapped_env = utils.wrap_env(env)\n",
    "agent.record_test_episode(wrapped_env)"
   ]
  },
  {
   "cell_type": "markdown",
   "metadata": {
    "id": "QETh1K7pt9I_"
   },
   "source": [
    "# Double Deep Q Learning\n",
    "\n",
    "Una variante del clásico algoritmo Q Learning, es Double Q Learning, este surge como solución al problema de sesgo de maximización. Esta variante fue rápidamente adaptada con tecnicás de optimización por decenso de gradientes (https://arxiv.org/pdf/1509.06461.pdf). Recomendamos leer el algoritmo del libro de Sutton y Barto para maximizar su entendimiento del mismo.\n",
    "\n",
    "***\n",
    "\n",
    "Vamos a utilizar el mismo modelo de red neuronal creado para el problema anterior y la misma implementación de memoria, dejamos un esqueleto de un agente de Double Deep Q learning para completar en el archivo **double_dqn_agent.py**"
   ]
  },
  {
   "cell_type": "code",
   "execution_count": 37,
   "metadata": {
    "id": "kDNkAtdMt9I_",
    "pycharm": {
     "name": "#%%\n"
    }
   },
   "outputs": [
    {
     "ename": "RuntimeError",
     "evalue": "Calculated padded input size per channel: (164 x 7). Kernel size: (8 x 8). Kernel size can't be greater than actual input size",
     "output_type": "error",
     "traceback": [
      "\u001b[0;31m---------------------------------------------------------------------------\u001b[0m",
      "\u001b[0;31mRuntimeError\u001b[0m                              Traceback (most recent call last)",
      "Cell \u001b[0;32mIn[37], line 10\u001b[0m\n\u001b[1;32m      7\u001b[0m torch\u001b[38;5;241m.\u001b[39mmanual_seed(\u001b[38;5;241m42\u001b[39m)\n\u001b[1;32m      8\u001b[0m torch\u001b[38;5;241m.\u001b[39mbackends\u001b[38;5;241m.\u001b[39mcudnn\u001b[38;5;241m.\u001b[39mdeterministic \u001b[38;5;241m=\u001b[39m \u001b[38;5;28;01mTrue\u001b[39;00m\n\u001b[0;32m---> 10\u001b[0m modelo_a \u001b[38;5;241m=\u001b[39m \u001b[43mDQN_CNN_Model\u001b[49m\u001b[43m(\u001b[49m\u001b[43menv\u001b[49m\u001b[38;5;241;43m.\u001b[39;49m\u001b[43mobservation_space\u001b[49m\u001b[38;5;241;43m.\u001b[39;49m\u001b[43mshape\u001b[49m\u001b[43m,\u001b[49m\u001b[43m \u001b[49m\u001b[43menv\u001b[49m\u001b[38;5;241;43m.\u001b[39;49m\u001b[43maction_space\u001b[49m\u001b[38;5;241;43m.\u001b[39;49m\u001b[43mn\u001b[49m\u001b[43m)\u001b[49m\u001b[38;5;241m.\u001b[39mto(DEVICE)\n\u001b[1;32m     11\u001b[0m modelo_b \u001b[38;5;241m=\u001b[39m DQN_CNN_Model(env\u001b[38;5;241m.\u001b[39mobservation_space\u001b[38;5;241m.\u001b[39mshape, env\u001b[38;5;241m.\u001b[39maction_space\u001b[38;5;241m.\u001b[39mn)\u001b[38;5;241m.\u001b[39mto(DEVICE)\n\u001b[1;32m     13\u001b[0m agent \u001b[38;5;241m=\u001b[39m DoubleDQNAgent(env, modelo_a, modelo_b, process_state, BUFFER_SIZE, BATCH_SIZE, LEARNING_RATE, GAMMA, epsilon_i\u001b[38;5;241m=\u001b[39m EPSILON_INI, epsilon_f\u001b[38;5;241m=\u001b[39mEPSILON_MIN, epsilon_anneal_time\u001b[38;5;241m=\u001b[39mEPSILON_TIME, epsilon_decay \u001b[38;5;241m=\u001b[39m EPSILON_DECAY, episode_block \u001b[38;5;241m=\u001b[39m EPISODE_BLOCK)\n",
      "File \u001b[0;32m~/facultad/2024/jupyter_notebooks_both_courses/tallerai/obligatorio/dqn_cnn_model.py:18\u001b[0m, in \u001b[0;36mDQN_CNN_Model.__init__\u001b[0;34m(self, env_inputs, n_actions)\u001b[0m\n\u001b[1;32m     15\u001b[0m \u001b[38;5;28mself\u001b[39m\u001b[38;5;241m.\u001b[39mconv3 \u001b[38;5;241m=\u001b[39m nn\u001b[38;5;241m.\u001b[39mConv2d(\u001b[38;5;241m64\u001b[39m, \u001b[38;5;241m64\u001b[39m, kernel_size\u001b[38;5;241m=\u001b[39m\u001b[38;5;241m3\u001b[39m, stride\u001b[38;5;241m=\u001b[39m\u001b[38;5;241m1\u001b[39m, padding\u001b[38;5;241m=\u001b[39m\u001b[38;5;241m1\u001b[39m)\n\u001b[1;32m     17\u001b[0m \u001b[38;5;66;03m# Calculate the size of the linear layer input\u001b[39;00m\n\u001b[0;32m---> 18\u001b[0m \u001b[38;5;28mself\u001b[39m\u001b[38;5;241m.\u001b[39mfc_input_dim \u001b[38;5;241m=\u001b[39m \u001b[38;5;28;43mself\u001b[39;49m\u001b[38;5;241;43m.\u001b[39;49m\u001b[43m_get_conv_output\u001b[49m\u001b[43m(\u001b[49m\u001b[38;5;28;43mself\u001b[39;49m\u001b[38;5;241;43m.\u001b[39;49m\u001b[43minput_shape\u001b[49m\u001b[43m)\u001b[49m\n\u001b[1;32m     20\u001b[0m \u001b[38;5;28mself\u001b[39m\u001b[38;5;241m.\u001b[39mfc1 \u001b[38;5;241m=\u001b[39m nn\u001b[38;5;241m.\u001b[39mLinear(\u001b[38;5;28mself\u001b[39m\u001b[38;5;241m.\u001b[39mfc_input_dim, \u001b[38;5;241m512\u001b[39m)\n\u001b[1;32m     21\u001b[0m \u001b[38;5;28mself\u001b[39m\u001b[38;5;241m.\u001b[39mfc2 \u001b[38;5;241m=\u001b[39m nn\u001b[38;5;241m.\u001b[39mLinear(\u001b[38;5;241m512\u001b[39m, n_actions)\n",
      "File \u001b[0;32m~/facultad/2024/jupyter_notebooks_both_courses/tallerai/obligatorio/dqn_cnn_model.py:28\u001b[0m, in \u001b[0;36mDQN_CNN_Model._get_conv_output\u001b[0;34m(self, shape)\u001b[0m\n\u001b[1;32m     26\u001b[0m \u001b[38;5;28;01mwith\u001b[39;00m torch\u001b[38;5;241m.\u001b[39mno_grad():\n\u001b[1;32m     27\u001b[0m     \u001b[38;5;28minput\u001b[39m \u001b[38;5;241m=\u001b[39m torch\u001b[38;5;241m.\u001b[39mzeros(\u001b[38;5;241m1\u001b[39m, \u001b[38;5;241m*\u001b[39mshape)\n\u001b[0;32m---> 28\u001b[0m     output \u001b[38;5;241m=\u001b[39m \u001b[38;5;28;43mself\u001b[39;49m\u001b[38;5;241;43m.\u001b[39;49m\u001b[43mconv1\u001b[49m\u001b[43m(\u001b[49m\u001b[38;5;28;43minput\u001b[39;49m\u001b[43m)\u001b[49m\n\u001b[1;32m     29\u001b[0m     output \u001b[38;5;241m=\u001b[39m \u001b[38;5;28mself\u001b[39m\u001b[38;5;241m.\u001b[39mconv2(output)\n\u001b[1;32m     30\u001b[0m     output \u001b[38;5;241m=\u001b[39m \u001b[38;5;28mself\u001b[39m\u001b[38;5;241m.\u001b[39mconv3(output)\n",
      "File \u001b[0;32m/opt/anaconda3/envs/taller_ai_38/lib/python3.8/site-packages/torch/nn/modules/module.py:1501\u001b[0m, in \u001b[0;36mModule._call_impl\u001b[0;34m(self, *args, **kwargs)\u001b[0m\n\u001b[1;32m   1496\u001b[0m \u001b[38;5;66;03m# If we don't have any hooks, we want to skip the rest of the logic in\u001b[39;00m\n\u001b[1;32m   1497\u001b[0m \u001b[38;5;66;03m# this function, and just call forward.\u001b[39;00m\n\u001b[1;32m   1498\u001b[0m \u001b[38;5;28;01mif\u001b[39;00m \u001b[38;5;129;01mnot\u001b[39;00m (\u001b[38;5;28mself\u001b[39m\u001b[38;5;241m.\u001b[39m_backward_hooks \u001b[38;5;129;01mor\u001b[39;00m \u001b[38;5;28mself\u001b[39m\u001b[38;5;241m.\u001b[39m_backward_pre_hooks \u001b[38;5;129;01mor\u001b[39;00m \u001b[38;5;28mself\u001b[39m\u001b[38;5;241m.\u001b[39m_forward_hooks \u001b[38;5;129;01mor\u001b[39;00m \u001b[38;5;28mself\u001b[39m\u001b[38;5;241m.\u001b[39m_forward_pre_hooks\n\u001b[1;32m   1499\u001b[0m         \u001b[38;5;129;01mor\u001b[39;00m _global_backward_pre_hooks \u001b[38;5;129;01mor\u001b[39;00m _global_backward_hooks\n\u001b[1;32m   1500\u001b[0m         \u001b[38;5;129;01mor\u001b[39;00m _global_forward_hooks \u001b[38;5;129;01mor\u001b[39;00m _global_forward_pre_hooks):\n\u001b[0;32m-> 1501\u001b[0m     \u001b[38;5;28;01mreturn\u001b[39;00m \u001b[43mforward_call\u001b[49m\u001b[43m(\u001b[49m\u001b[38;5;241;43m*\u001b[39;49m\u001b[43margs\u001b[49m\u001b[43m,\u001b[49m\u001b[43m \u001b[49m\u001b[38;5;241;43m*\u001b[39;49m\u001b[38;5;241;43m*\u001b[39;49m\u001b[43mkwargs\u001b[49m\u001b[43m)\u001b[49m\n\u001b[1;32m   1502\u001b[0m \u001b[38;5;66;03m# Do not call functions when jit is used\u001b[39;00m\n\u001b[1;32m   1503\u001b[0m full_backward_hooks, non_full_backward_hooks \u001b[38;5;241m=\u001b[39m [], []\n",
      "File \u001b[0;32m/opt/anaconda3/envs/taller_ai_38/lib/python3.8/site-packages/torch/nn/modules/conv.py:463\u001b[0m, in \u001b[0;36mConv2d.forward\u001b[0;34m(self, input)\u001b[0m\n\u001b[1;32m    462\u001b[0m \u001b[38;5;28;01mdef\u001b[39;00m \u001b[38;5;21mforward\u001b[39m(\u001b[38;5;28mself\u001b[39m, \u001b[38;5;28minput\u001b[39m: Tensor) \u001b[38;5;241m-\u001b[39m\u001b[38;5;241m>\u001b[39m Tensor:\n\u001b[0;32m--> 463\u001b[0m     \u001b[38;5;28;01mreturn\u001b[39;00m \u001b[38;5;28;43mself\u001b[39;49m\u001b[38;5;241;43m.\u001b[39;49m\u001b[43m_conv_forward\u001b[49m\u001b[43m(\u001b[49m\u001b[38;5;28;43minput\u001b[39;49m\u001b[43m,\u001b[49m\u001b[43m \u001b[49m\u001b[38;5;28;43mself\u001b[39;49m\u001b[38;5;241;43m.\u001b[39;49m\u001b[43mweight\u001b[49m\u001b[43m,\u001b[49m\u001b[43m \u001b[49m\u001b[38;5;28;43mself\u001b[39;49m\u001b[38;5;241;43m.\u001b[39;49m\u001b[43mbias\u001b[49m\u001b[43m)\u001b[49m\n",
      "File \u001b[0;32m/opt/anaconda3/envs/taller_ai_38/lib/python3.8/site-packages/torch/nn/modules/conv.py:459\u001b[0m, in \u001b[0;36mConv2d._conv_forward\u001b[0;34m(self, input, weight, bias)\u001b[0m\n\u001b[1;32m    455\u001b[0m \u001b[38;5;28;01mif\u001b[39;00m \u001b[38;5;28mself\u001b[39m\u001b[38;5;241m.\u001b[39mpadding_mode \u001b[38;5;241m!=\u001b[39m \u001b[38;5;124m'\u001b[39m\u001b[38;5;124mzeros\u001b[39m\u001b[38;5;124m'\u001b[39m:\n\u001b[1;32m    456\u001b[0m     \u001b[38;5;28;01mreturn\u001b[39;00m F\u001b[38;5;241m.\u001b[39mconv2d(F\u001b[38;5;241m.\u001b[39mpad(\u001b[38;5;28minput\u001b[39m, \u001b[38;5;28mself\u001b[39m\u001b[38;5;241m.\u001b[39m_reversed_padding_repeated_twice, mode\u001b[38;5;241m=\u001b[39m\u001b[38;5;28mself\u001b[39m\u001b[38;5;241m.\u001b[39mpadding_mode),\n\u001b[1;32m    457\u001b[0m                     weight, bias, \u001b[38;5;28mself\u001b[39m\u001b[38;5;241m.\u001b[39mstride,\n\u001b[1;32m    458\u001b[0m                     _pair(\u001b[38;5;241m0\u001b[39m), \u001b[38;5;28mself\u001b[39m\u001b[38;5;241m.\u001b[39mdilation, \u001b[38;5;28mself\u001b[39m\u001b[38;5;241m.\u001b[39mgroups)\n\u001b[0;32m--> 459\u001b[0m \u001b[38;5;28;01mreturn\u001b[39;00m \u001b[43mF\u001b[49m\u001b[38;5;241;43m.\u001b[39;49m\u001b[43mconv2d\u001b[49m\u001b[43m(\u001b[49m\u001b[38;5;28;43minput\u001b[39;49m\u001b[43m,\u001b[49m\u001b[43m \u001b[49m\u001b[43mweight\u001b[49m\u001b[43m,\u001b[49m\u001b[43m \u001b[49m\u001b[43mbias\u001b[49m\u001b[43m,\u001b[49m\u001b[43m \u001b[49m\u001b[38;5;28;43mself\u001b[39;49m\u001b[38;5;241;43m.\u001b[39;49m\u001b[43mstride\u001b[49m\u001b[43m,\u001b[49m\n\u001b[1;32m    460\u001b[0m \u001b[43m                \u001b[49m\u001b[38;5;28;43mself\u001b[39;49m\u001b[38;5;241;43m.\u001b[39;49m\u001b[43mpadding\u001b[49m\u001b[43m,\u001b[49m\u001b[43m \u001b[49m\u001b[38;5;28;43mself\u001b[39;49m\u001b[38;5;241;43m.\u001b[39;49m\u001b[43mdilation\u001b[49m\u001b[43m,\u001b[49m\u001b[43m \u001b[49m\u001b[38;5;28;43mself\u001b[39;49m\u001b[38;5;241;43m.\u001b[39;49m\u001b[43mgroups\u001b[49m\u001b[43m)\u001b[49m\n",
      "\u001b[0;31mRuntimeError\u001b[0m: Calculated padded input size per channel: (164 x 7). Kernel size: (8 x 8). Kernel size can't be greater than actual input size"
     ]
    }
   ],
   "source": [
    "\n",
    "env = gymnasium.make(ENV_NAME)\n",
    "from double_dqn_agent import DoubleDQNAgent\n",
    "# Cada vez que hacemos un experimento reseteamos la semilla para tener reproducibilidad\n",
    "env.seed(42)\n",
    "random.seed(42)\n",
    "np.random.seed(42)\n",
    "torch.manual_seed(42)\n",
    "torch.backends.cudnn.deterministic = True\n",
    "\n",
    "modelo_a = DQN_CNN_Model(env.observation_space.shape, env.action_space.n).to(DEVICE)\n",
    "modelo_b = DQN_CNN_Model(env.observation_space.shape, env.action_space.n).to(DEVICE)\n",
    "\n",
    "agent = DoubleDQNAgent(env, modelo_a, modelo_b, process_state, BUFFER_SIZE, BATCH_SIZE, LEARNING_RATE, GAMMA, epsilon_i= EPSILON_INI, epsilon_f=EPSILON_MIN, epsilon_anneal_time=EPSILON_TIME, epsilon_decay = EPSILON_DECAY, episode_block = EPISODE_BLOCK)\n",
    "\n",
    "rewards = agent.train(EPISODES, STEPS, TOTAL_STEPS)"
   ]
  },
  {
   "cell_type": "code",
   "execution_count": null,
   "metadata": {
    "id": "KG3Nbclrt9I_",
    "pycharm": {
     "name": "#%%\n"
    }
   },
   "outputs": [],
   "source": [
    "#Hiperparámetros de entrenamiento del agente Doble DQN\n",
    "\n",
    "TOTAL_STEPS =1000000\n",
    "EPISODES = 5\n",
    "STEPS = 100000\n",
    "\n",
    "EPSILON_INI = 1\n",
    "EPSILON_MIN = 0.05\n",
    "EPSILON_DECAY = 0.99998599985\n",
    "EPSILON_TIME = 1000\n",
    "\n",
    "BATCH_SIZE = 64\n",
    "BUFFER_SIZE = 4000\n",
    "\n",
    "GAMMA = 0.99\n",
    "LEARNING_RATE = 1e-4\n"
   ]
  },
  {
   "cell_type": "code",
   "execution_count": null,
   "metadata": {
    "id": "zi7zS7Qht9I_",
    "pycharm": {
     "name": "#%%\n"
    }
   },
   "outputs": [],
   "source": [
    "#initial environment\n",
    "env = utils.SkipFrame(env, 4)\n",
    "wrapped_env = utils.wrap_env(env)\n",
    "agent.record_test_episode(wrapped_env)"
   ]
  },
  {
   "cell_type": "markdown",
   "metadata": {
    "id": "YNNvsKiEt9I_"
   },
   "source": [
    "# Comparaciones, Resultados, Comentarios...\n",
    "De aquí en adelante son libres de presentar como gusten los resultados comparativos de las técnicas."
   ]
  },
  {
   "cell_type": "code",
   "execution_count": null,
   "metadata": {
    "id": "uc4gilhpt9JA"
   },
   "outputs": [],
   "source": []
  }
 ],
 "metadata": {
  "accelerator": "GPU",
  "colab": {
   "provenance": []
  },
  "interpreter": {
   "hash": "81794d4967e6c3204c66dcd87b604927b115b27c00565d3d43f05ba2f3a2cb0d"
  },
  "kernelspec": {
   "display_name": "Python 3 (ipykernel)",
   "language": "python",
   "name": "python3"
  },
  "language_info": {
   "codemirror_mode": {
    "name": "ipython",
    "version": 3
   },
   "file_extension": ".py",
   "mimetype": "text/x-python",
   "name": "python",
   "nbconvert_exporter": "python",
   "pygments_lexer": "ipython3",
   "version": "3.8.18"
  }
 },
 "nbformat": 4,
 "nbformat_minor": 1
}
